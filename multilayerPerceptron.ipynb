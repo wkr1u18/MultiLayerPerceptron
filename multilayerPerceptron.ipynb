{
  "nbformat": 4,
  "nbformat_minor": 0,
  "metadata": {
    "colab": {
      "name": "multilayerPerceptron.ipynb",
      "provenance": [],
      "collapsed_sections": []
    },
    "kernelspec": {
      "name": "python3",
      "display_name": "Python 3"
    }
  },
  "cells": [
    {
      "cell_type": "code",
      "metadata": {
        "id": "Eqn7MV3T6HbY",
        "colab_type": "code",
        "colab": {}
      },
      "source": [
        "import numpy as np\n",
        "import matplotlib.pyplot as plt\n",
        "\n",
        "from sklearn.datasets import make_classification\n",
        "from sklearn.model_selection import train_test_split\n",
        "from sklearn.datasets import make_classification\n",
        "from sklearn.model_selection import train_test_split\n",
        "\n",
        "%matplotlib inline"
      ],
      "execution_count": 0,
      "outputs": []
    },
    {
      "cell_type": "markdown",
      "metadata": {
        "id": "h7Pi5TtV6hNo",
        "colab_type": "text"
      },
      "source": [
        "Dataset generation and test-train split"
      ]
    },
    {
      "cell_type": "code",
      "metadata": {
        "id": "2mJGJVUz6mzc",
        "colab_type": "code",
        "outputId": "8b06e287-01cc-45ff-dfd2-633b3616c06a",
        "colab": {
          "base_uri": "https://localhost:8080/",
          "height": 265
        }
      },
      "source": [
        "X, Y = make_classification(n_features=2, n_redundant=0, n_informative=1,n_clusters_per_class=1)\n",
        "X = np.array(X)\n",
        "Y = np.array(Y.reshape(100,1))\n",
        "plt.scatter(X[:, 0], X[:, 1], marker='o', c=Y.reshape(100,),\n",
        "            s=25, edgecolor='k')\n",
        "X_train, X_test, Y_train, Y_test = train_test_split(X,Y, test_size=0.2)\n"
      ],
      "execution_count": 2,
      "outputs": [
        {
          "output_type": "display_data",
          "data": {
            "image/png": "[encoded data removed]",
            "text/plain": [
              "<Figure size 432x288 with 1 Axes>"
            ]
          },
          "metadata": {
            "tags": []
          }
        }
      ]
    },
    {
      "cell_type": "markdown",
      "metadata": {
        "id": "liM1YEC9FgLc",
        "colab_type": "text"
      },
      "source": [
        "Cross entropy calculation:"
      ]
    },
    {
      "cell_type": "code",
      "metadata": {
        "id": "3usHvzgQFj7Q",
        "colab_type": "code",
        "colab": {}
      },
      "source": [
        "def cross_entropy(Y_pred, Y):\n",
        "  loss = - (Y * np.log(Y_pred+(1e-10)) +  (1-Y)*np.log(1-Y_pred+(1e-10)))/Y.shape[0]\n",
        "  return sum(loss)\n",
        "\n",
        "def cross_entropy_derrivative(Y_pred, Y):\n",
        "  return - (Y * 1/(Y_pred+1e-10) - (1-Y) * 1/(Y_pred+1e-10))/Y.shape[0]"
      ],
      "execution_count": 0,
      "outputs": []
    },
    {
      "cell_type": "markdown",
      "metadata": {
        "id": "jHQgyI_MHFnj",
        "colab_type": "text"
      },
      "source": [
        "*   Input layer is going to have two inputs + bias\n",
        "*   Hidden layer is going to have six inputs + bias\n",
        "*   Output layer is going to have one output - in the range <0,1> - sigmoid output"
      ]
    },
    {
      "cell_type": "code",
      "metadata": {
        "id": "83foU2Z4Haji",
        "colab_type": "code",
        "outputId": "9cd37754-4db3-42ac-a7a4-fe2a2e6aa4b0",
        "colab": {
          "base_uri": "https://localhost:8080/",
          "height": 282
        }
      },
      "source": [
        "def sigmoid(x):\n",
        "  return 1/(1+np.exp(-x))\n",
        "\n",
        "def sigmoid_derivative(x):\n",
        "  return sigmoid(x)*(1-sigmoid(x))\n",
        "\n",
        "def relu(x):\n",
        "  return np.maximum(0,x)\n",
        "\n",
        "def relu_derivative(x):\n",
        "  X = np.copy(x)\n",
        "  X[x<0]=0\n",
        "  X[x>=0]=1\n",
        "  return X\n",
        "\n",
        "def add_bias_unit(X):\n",
        "    return np.append(np.ones(X.shape[0]).reshape(-1,1), X, axis=1)\n",
        "\n",
        "class Perceptron:\n",
        "    def __init__(self, input_sz,hidden_sz,output_sz):\n",
        "        self.input_sz = input_sz\n",
        "        self.hidden_sz = hidden_sz\n",
        "        self.output_sz = output_sz\n",
        "    \n",
        "        self.W1_input = None\n",
        "        self.W1 = np.random.randn(input_sz+1, hidden_sz)\n",
        "        self.W1_output = None\n",
        "        self.W1_activation = None\n",
        "\n",
        "        self.W2_input = None\n",
        "        self.W2 = np.random.randn(hidden_sz+1, output_sz)\n",
        "        self.W2_output = None\n",
        "        self.W2_activation = None\n",
        "        print(\"Created network for\", input_sz, \"input features, with\", hidden_sz, \"neurons in hidden layer, with\", output_sz, \"as the output count\")\n",
        "\n",
        "    def predict(self, X):\n",
        "        #First layer\n",
        "        self.W1_input = add_bias_unit(X)\n",
        "        self.W1_output = np.dot(self.W1_input, self.W1)\n",
        "        self.W1_activation = relu(self.W1_output)\n",
        "\n",
        "        #Second layer\n",
        "        self.W2_input = add_bias_unit(self.W1_activation)\n",
        "        self.W2_output = np.dot(self.W2_input, self.W2)\n",
        "        self.W2_activation = sigmoid(self.W2_output)\n",
        "\n",
        "        return self.W2_activation\n",
        "\n",
        "    def backprop(self, X,Y, learning_rate):\n",
        "        Y_pred = self.predict(X)\n",
        "        delta = cross_entropy_derrivative(Y_pred, Y)\n",
        "        \n",
        "        #Backprop thorugh second matrix and update W2 weights\n",
        "        delta = delta * sigmoid_derivative(self.W2_output)\n",
        "        W2_gradient = np.dot(self.W2_input.T, delta)\n",
        "        self.W2 -= learning_rate * W2_gradient\n",
        "        #Get rid of bias unit\n",
        "        delta = np.dot(delta, self.W2.T)[:,1:]\n",
        "        \n",
        "        #Backprop thorugh first matrix and update W1 weights\n",
        "        delta = delta * relu_derivative(self.W2_output)\n",
        "        W1_gradient = np.dot(self.W1_input.T, delta)\n",
        "        self.W1 -= learning_rate * W1_gradient \n",
        "    \n",
        "    def train(self, X_train, Y_train, learning_rate, epochs):\n",
        "        train_losses = []\n",
        "        for i in range(epochs):\n",
        "            Y_predicted = self.predict(X_train)\n",
        "            error_rate = cross_entropy(Y_predicted, Y_train)\n",
        "            self.backprop(X_train,Y_train,learning_rate)\n",
        "            train_losses.append(error_rate)\n",
        "        plt.plot(np.arange(len(train_losses)), train_losses, marker='o')\n",
        "model = Perceptron(2,6,1)\n",
        "model.train(X_train, Y_train, 0.0001, 20000)"
      ],
      "execution_count": 10,
      "outputs": [
        {
          "output_type": "stream",
          "text": [
            "Created network for 2 input features, with 6 neurons in hidden layer, with 1 as the output count\n"
          ],
          "name": "stdout"
        },
        {
          "output_type": "display_data",
          "data": {
            "image/png": "[encoded data removed]",
            "text/plain": [
              "<Figure size 432x288 with 1 Axes>"
            ]
          },
          "metadata": {
            "tags": []
          }
        }
      ]
    },
    {
      "cell_type": "markdown",
      "metadata": {
        "id": "fHQu8RstIRTj",
        "colab_type": "text"
      },
      "source": [
        "Now, lets test how model behaves on data unseen earlier:"
      ]
    },
    {
      "cell_type": "code",
      "metadata": {
        "id": "TA5xK0OyIW1C",
        "colab_type": "code",
        "colab": {
          "base_uri": "https://localhost:8080/",
          "height": 34
        },
        "outputId": "c67f4a6e-1e4c-4ee0-e50e-7088fbb53108"
      },
      "source": [
        "def accuracy(Y_pred,Y_test):\n",
        "    score = np.zeros_like(Y_pred)\n",
        "    score[Y_pred>0.5] = 1\n",
        "    return sum(score==Y_test)/Y_test.shape[0]\n",
        "\n",
        "print(\"Accuracy on unseen data is:\", accuracy(model.predict(X_test),Y_test))"
      ],
      "execution_count": 11,
      "outputs": [
        {
          "output_type": "stream",
          "text": [
            "Accuracy on unseen data is: [0.95]\n"
          ],
          "name": "stdout"
        }
      ]
    }
  ]
}